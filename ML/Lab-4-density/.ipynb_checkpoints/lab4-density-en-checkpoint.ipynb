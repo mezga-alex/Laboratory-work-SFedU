{
 "cells": [
  {
   "cell_type": "markdown",
   "metadata": {},
   "source": [
    "## Lab 4: Probability Density Estimation"
   ]
  },
  {
   "cell_type": "markdown",
   "metadata": {},
   "source": [
    "The data for this lab is some test measurements on production lines of Bosh company (see. [конкурс](https://www.kaggle.com/c/bosch-production-line-performance) «Bosch Production Line Performance» on Kaggle). The measurements Bosh uses to determine defects in assembled equipment. \n",
    "\n",
    "All the original Bosh data does not fit into the computer's RAM, so the `data.csv` file contains only a few features. Read the data from the `data.csv` file. The target attribute here is `Response` — the presence of  defects in equipment."
   ]
  },
  {
   "cell_type": "code",
   "execution_count": 1,
   "metadata": {},
   "outputs": [],
   "source": [
    "import pandas as pd"
   ]
  },
  {
   "cell_type": "code",
   "execution_count": 2,
   "metadata": {},
   "outputs": [],
   "source": [
    "# place for code\n"
   ]
  },
  {
   "cell_type": "markdown",
   "metadata": {},
   "source": [
    "## 1 \n",
    "Plot two approximations to the probability density of the attribute `L1_S24_F1846` for `Response = 0` and for `Response = 1` using one of the following kernels (select the kernel number using the formula: `(n mod 6) + 1`, where `n` is your number in the group list):\n",
    "\n",
    "    1.\ttophat\n",
    "    2.\tgaussian\n",
    "    3.\tlinear  \n",
    "    4.\tcosine\n",
    "    5.\tepanechnikov\n",
    "    6.\texponential\n"
   ]
  },
  {
   "cell_type": "code",
   "execution_count": null,
   "metadata": {},
   "outputs": [],
   "source": [
    "from sklearn.neighbors.kde import KernelDensity\n",
    "import numpy as np\n",
    "\n",
    "import matplotlib.pyplot as plt"
   ]
  },
  {
   "cell_type": "markdown",
   "metadata": {},
   "source": [
    "*Help:*\n",
    "\n",
    "    i0 = data['Response'] == 0\n",
    "    kde0 = KernelDensity(kernel='gaussian', bandwidth=0.1).fit(data.loc[i0, 'L1_S24_F1846'].values.reshape(-1, 1))\n",
    "    X_plot = np.linspace(-1, 1, 1000).reshape(-1, 1)\n",
    "    Dens0 = np.exp(kde0.score_samples(X_plot))  # score_samples returns logarithm of density"
   ]
  },
  {
   "cell_type": "code",
   "execution_count": null,
   "metadata": {},
   "outputs": [],
   "source": [
    "# place for code\n"
   ]
  },
  {
   "cell_type": "markdown",
   "metadata": {},
   "source": [
    "Answer in the comments to the question: is the sample well separable on the basis of `L1_S24_F1846`?"
   ]
  },
  {
   "cell_type": "code",
   "execution_count": null,
   "metadata": {},
   "outputs": [],
   "source": [
    "# place for comments\n",
    "# "
   ]
  },
  {
   "cell_type": "markdown",
   "metadata": {},
   "source": [
    "## 2"
   ]
  },
  {
   "cell_type": "markdown",
   "metadata": {},
   "source": [
    "Split the `data` sample into two equal parts: the training `dataTrain` and the test `dataTest'."
   ]
  },
  {
   "cell_type": "code",
   "execution_count": null,
   "metadata": {},
   "outputs": [],
   "source": [
    "dataTrain = data.loc[0:data.shape[0] / 2, ].reset_index(drop=True)\n",
    "dataTest = data.loc[data.shape[0] / 2:data.shape[0], ].reset_index(drop=True)"
   ]
  },
  {
   "cell_type": "markdown",
   "metadata": {},
   "source": [
    "Using cross-validation, select **for each `Response` class (`r=0` and `r=1`)** the value of the `bandwidth` kernel width, at which the logarithm of likelihood is maximal on the test sample.\n",
    "\n",
    "*Help:*\n",
    "\n",
    "    r = 0\n",
    "    kde0 = KernelDensity(kernel='gaussian', bandwidth=0.05)\n",
    "    kde0.fit(dataTrain.loc[dataTrain['Response']==r, 'L1_S24_F1846'].values.reshape(-1, 1))\n",
    "    logProbability0 = kde0.score_samples(dataTest.loc[dataTest['Response']==r, 'L1_S24_F1846'].values.reshape(-1, 1))\n",
    "    logProbability0[np.isinf(logProbability0)] = -100 # replace -infinity\n",
    "    logLikehood0 = logProbability0.sum()\n",
    "    print(logLikehood0)"
   ]
  },
  {
   "cell_type": "code",
   "execution_count": null,
   "metadata": {},
   "outputs": [],
   "source": [
    "# place for code\n"
   ]
  },
  {
   "cell_type": "markdown",
   "metadata": {},
   "source": [
    "### 3"
   ]
  },
  {
   "cell_type": "markdown",
   "metadata": {},
   "source": [
    "For the best `bandwidth` found, calculate `p(x|0)` and `p(x|1)` for the test sample."
   ]
  },
  {
   "cell_type": "code",
   "execution_count": null,
   "metadata": {},
   "outputs": [],
   "source": [
    "predictionProbXafter0 = np.exp(kde0.score_samples(dataTest['L1_S24_F1846'].values.reshape(-1, 1)))\n",
    "predictionProbXafter1 = np.exp(kde1.score_samples(dataTest['L1_S24_F1846'].values.reshape(-1, 1)))"
   ]
  },
  {
   "cell_type": "markdown",
   "metadata": {},
   "source": [
    "Using the Bayes formula, then find `p(0|x)` and `p(1|x)`. Sort all objects in the test sample in ascending order of the predicted probability `p(1|x)`, display the probabilities for the last 10 objects and calculate the number of defective equipment among the last 100 objects in the sorted list.\n",
    "\n",
    "*Help:*\n",
    "    \n",
    "    ind = np.argsort(predictionProb1afterX) - sorting, which returns indexes\n",
    "    print(predictionProb1afterX[ind[-10:]]) - print last 10 elements\n",
    "    print(sum(dataTest.loc[ind[-100:],'Response'])) - number of defective equipment among the last 100 with the highest probability of defect"
   ]
  },
  {
   "cell_type": "code",
   "execution_count": null,
   "metadata": {},
   "outputs": [],
   "source": [
    "# place for code\n"
   ]
  }
 ],
 "metadata": {
  "kernelspec": {
   "display_name": "Python 3",
   "language": "python",
   "name": "python3"
  },
  "language_info": {
   "codemirror_mode": {
    "name": "ipython",
    "version": 3
   },
   "file_extension": ".py",
   "mimetype": "text/x-python",
   "name": "python",
   "nbconvert_exporter": "python",
   "pygments_lexer": "ipython3",
   "version": "3.6.8"
  }
 },
 "nbformat": 4,
 "nbformat_minor": 2
}
