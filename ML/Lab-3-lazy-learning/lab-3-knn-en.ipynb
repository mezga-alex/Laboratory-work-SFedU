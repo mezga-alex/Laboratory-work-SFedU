{
 "cells": [
  {
   "cell_type": "markdown",
   "metadata": {},
   "source": [
    "## Lab 3: Nearest Neighbor Method (kNN)"
   ]
  },
  {
   "cell_type": "markdown",
   "metadata": {},
   "source": [
    "As part of this lesson, we will create a model for predicting the surviving passengers on the Titanic (a classic kaggle training [competition](https://www.kaggle.com/c/titanic)).\n",
    "\n",
    "![Titanic](http://staff.mmcs.sfedu.ru/~sguda/MachineLearning/titanic.png)\n",
    "\n",
    "## 1"
   ]
  },
  {
   "cell_type": "markdown",
   "metadata": {},
   "source": [
    "Read the data about those who died in the Titanic disaster. The target feature here is the fact that the passenger was saved. Look at the data."
   ]
  },
  {
   "cell_type": "code",
   "execution_count": null,
   "metadata": {},
   "outputs": [],
   "source": [
    "import pandas as pd"
   ]
  },
  {
   "cell_type": "code",
   "execution_count": null,
   "metadata": {},
   "outputs": [],
   "source": [
    "# place for code\n"
   ]
  },
  {
   "cell_type": "code",
   "execution_count": null,
   "metadata": {},
   "outputs": [],
   "source": [
    "# place for code\n"
   ]
  },
  {
   "cell_type": "code",
   "execution_count": null,
   "metadata": {},
   "outputs": [],
   "source": [
    "# place for code\n"
   ]
  },
  {
   "cell_type": "markdown",
   "metadata": {},
   "source": [
    "For simplicity, exclude passengers with an unknown age and re-number the rows\n",
    "\n",
    "*Features that may be useful: `.dropna(subset='Age'), .reset_index(drop=True)`*"
   ]
  },
  {
   "cell_type": "code",
   "execution_count": null,
   "metadata": {},
   "outputs": [],
   "source": [
    "# place for code\n"
   ]
  },
  {
   "cell_type": "markdown",
   "metadata": {},
   "source": [
    "## 2\n",
    "\n",
    "Plot the scatter plot with age as the abscissa axis and ticket price as the ordinate axis. Mark the dead in red, and the survived passengers in green. Build 2 separate scatter plots: for women and for men.\n",
    "\n",
    "Does the compactness hypothesis hold for the given set?"
   ]
  },
  {
   "cell_type": "code",
   "execution_count": null,
   "metadata": {},
   "outputs": [],
   "source": [
    "%matplotlib inline\n",
    "import matplotlib.pyplot as plt"
   ]
  },
  {
   "cell_type": "code",
   "execution_count": null,
   "metadata": {},
   "outputs": [],
   "source": [
    "# place for code\n"
   ]
  },
  {
   "cell_type": "code",
   "execution_count": null,
   "metadata": {},
   "outputs": [],
   "source": [
    "# place for code\n"
   ]
  },
  {
   "cell_type": "markdown",
   "metadata": {},
   "source": [
    "## 3 \n",
    "\n",
    "To build the model, we will need a passenger proximity metric. Build the function for calculating the distance between passengers:"
   ]
  },
  {
   "cell_type": "code",
   "execution_count": null,
   "metadata": {},
   "outputs": [],
   "source": [
    "def distance(a,b):\n",
    "    d = 0\n",
    "    d += abs(a['Pclass'] - b['Pclass'])\n",
    "    d += a['Sex'] != b['Sex']\n",
    "    d += abs(a['Age'] - b['Age'])\n",
    "    d += abs(a['SibSp'] - b['SibSp'])\n",
    "    d += abs(a['Parch'] - b['Parch'])\n",
    "    d += abs(a['Fare'] - b['Fare'])\n",
    "    d += a['Embarked'] != b['Embarked']\n",
    "    return d"
   ]
  },
  {
   "cell_type": "markdown",
   "metadata": {},
   "source": [
    "The `KNeighborsClassifier` method from the `sklearn` library is unnecessarily demanding on data types. Programming the `k` nearest neighbor method manually:"
   ]
  },
  {
   "cell_type": "code",
   "execution_count": null,
   "metadata": {},
   "outputs": [],
   "source": [
    "import numpy as np\n",
    "import tqdm"
   ]
  },
  {
   "cell_type": "code",
   "execution_count": null,
   "metadata": {},
   "outputs": [],
   "source": [
    "def myKNeighborsClassifier(learnData, K, passengerIndexForPrediction):\n",
    "    dists = np.zeros((learnData.shape[0] - 1, 2))\n",
    "    i = 0\n",
    "    for idx, row in learnData.iterrows():\n",
    "        if idx != passengerIndexForPrediction:  # LOO error control method\n",
    "            dists[i][0] = distance(learnData.loc[passengerIndexForPrediction,], row)\n",
    "            dists[i][1] = row['Survived']\n",
    "            i += 1\n",
    "    dists = sorted(dists, key = lambda pair: pair[0])\n",
    "    prediction = 0\n",
    "    for i in range(K): \n",
    "        prediction += dists[i][1]\n",
    "    prediction /= K\n",
    "    return round(prediction)"
   ]
  },
  {
   "cell_type": "markdown",
   "metadata": {},
   "source": [
    "Run prediction for all passengers on the ship and use the LOO control to evaluate the classification quality:"
   ]
  },
  {
   "cell_type": "code",
   "execution_count": null,
   "metadata": {},
   "outputs": [],
   "source": [
    "accuracy = 0\n",
    "for idx, row in tqdm.tqdm(data.iterrows(), total=len(data)):\n",
    "    accuracy += row['Survived'] == myKNeighborsClassifier(data, 5, idx)\n",
    "print(accuracy/data.shape[0])"
   ]
  },
  {
   "cell_type": "markdown",
   "metadata": {},
   "source": [
    "Select the terms in the metric, their weights, and the number of neighbors so that the classification quality would be as high as possible. \n",
    "\n",
    "If a function in `python` runs for a long time, use its equivalent in \n",
    "C++: `KNeighborsClassifier.cpp`.\n",
    "\n",
    "Compilation on Linux is performed by the command \n",
    "\n",
    " g++ - O2 KNeighborsClassifier.cpp -o KNeighborsClassifier\n",
    "\n",
    "\n",
    "Launch: \n",
    "\n",
    " ./KNeighborsClassifier\n",
    "    \n",
    "Who built the metric with the best quality: +5 bonus points."
   ]
  },
  {
   "cell_type": "markdown",
   "metadata": {},
   "source": [
    "## 4\n",
    "\n",
    "Create a copy of the `KNeighborsClassifier` function and change it to calculate the margins of objects. Call it calcMargin.\n",
    "\n",
    "Calculate the margins for all objects and output information about the five objects with the minimum margin (outliers) and the five objects with the maximum margin (etalons). Explain the result in comments."
   ]
  },
  {
   "cell_type": "code",
   "execution_count": null,
   "metadata": {},
   "outputs": [],
   "source": [
    "# place for code\n"
   ]
  },
  {
   "cell_type": "code",
   "execution_count": null,
   "metadata": {},
   "outputs": [],
   "source": [
    "# place for code\n"
   ]
  },
  {
   "cell_type": "code",
   "execution_count": null,
   "metadata": {},
   "outputs": [],
   "source": [
    "# place for code\n",
    " "
   ]
  },
  {
   "cell_type": "markdown",
   "metadata": {},
   "source": [
    "This is most easily done using the `np.argsort` function, which returns the indexes of elements in the sorted row:"
   ]
  },
  {
   "cell_type": "code",
   "execution_count": null,
   "metadata": {
    "scrolled": true
   },
   "outputs": [],
   "source": [
    "idx = np.argsort(margins)"
   ]
  },
  {
   "cell_type": "code",
   "execution_count": null,
   "metadata": {},
   "outputs": [],
   "source": [
    "print('Black sheeps (outliers)')\n",
    "data.loc[idx[:5],]"
   ]
  },
  {
   "cell_type": "code",
   "execution_count": null,
   "metadata": {},
   "outputs": [],
   "source": [
    "print('Etalons (typical objects)')\n",
    "data.loc[idx[-5:],]"
   ]
  }
 ],
 "metadata": {
  "kernelspec": {
   "display_name": "Python 3",
   "language": "python",
   "name": "python3"
  },
  "language_info": {
   "codemirror_mode": {
    "name": "ipython",
    "version": 3
   },
   "file_extension": ".py",
   "mimetype": "text/x-python",
   "name": "python",
   "nbconvert_exporter": "python",
   "pygments_lexer": "ipython3",
   "version": "3.7.3"
  }
 },
 "nbformat": 4,
 "nbformat_minor": 2
}
