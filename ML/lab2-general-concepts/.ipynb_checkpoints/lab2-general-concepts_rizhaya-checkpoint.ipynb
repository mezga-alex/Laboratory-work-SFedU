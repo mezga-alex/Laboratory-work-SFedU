{
 "cells": [
  {
   "cell_type": "markdown",
   "metadata": {},
   "source": [
    "### Лабораторная работа 2: основные понятия"
   ]
  },
  {
   "cell_type": "markdown",
   "metadata": {},
   "source": [
    "В сегодняшней лабораторной будем работать с данными о проданных на аукционе автомобилях (`Carvana Car Prediction`). Целевым признаком здесь является наличие скрытых продавцом существенных недостатков. \n",
    "\n",
    "Carvana &mdash; компания-перекупщик автомобилей, соответственно, ее задача &mdash; не допустить скупку автомобилей со скрытыми недостатками, так как их впоследствии тяжелее продавать."
   ]
  },
  {
   "cell_type": "markdown",
   "metadata": {},
   "source": [
    "## 1"
   ]
  },
  {
   "cell_type": "markdown",
   "metadata": {},
   "source": [
    "Загрузите данные о проданных на аукционе автомобилях. Посмотрите на \"сырые\" данные. \n",
    "\n",
    "Просмотрите файл `DataDictionary-ru.txt` и поймите, что означают столбцы матрицы. Выведите статистику по столбцам.\n"
   ]
  },
  {
   "cell_type": "code",
   "execution_count": 2,
   "metadata": {},
   "outputs": [],
   "source": [
    "import pandas as pd"
   ]
  },
  {
   "cell_type": "code",
   "execution_count": 3,
   "metadata": {},
   "outputs": [
    {
     "data": {
      "text/html": [
       "<div>\n",
       "<style scoped>\n",
       "    .dataframe tbody tr th:only-of-type {\n",
       "        vertical-align: middle;\n",
       "    }\n",
       "\n",
       "    .dataframe tbody tr th {\n",
       "        vertical-align: top;\n",
       "    }\n",
       "\n",
       "    .dataframe thead th {\n",
       "        text-align: right;\n",
       "    }\n",
       "</style>\n",
       "<table border=\"1\" class=\"dataframe\">\n",
       "  <thead>\n",
       "    <tr style=\"text-align: right;\">\n",
       "      <th></th>\n",
       "      <th>RefId</th>\n",
       "      <th>IsBadBuy</th>\n",
       "      <th>VehYear</th>\n",
       "      <th>VehicleAge</th>\n",
       "      <th>WheelTypeID</th>\n",
       "      <th>VehOdo</th>\n",
       "      <th>MMRAcquisitionAuctionAveragePrice</th>\n",
       "      <th>MMRAcquisitionAuctionCleanPrice</th>\n",
       "      <th>MMRAcquisitionRetailAveragePrice</th>\n",
       "      <th>MMRAcquisitonRetailCleanPrice</th>\n",
       "      <th>MMRCurrentAuctionAveragePrice</th>\n",
       "      <th>MMRCurrentAuctionCleanPrice</th>\n",
       "      <th>MMRCurrentRetailAveragePrice</th>\n",
       "      <th>MMRCurrentRetailCleanPrice</th>\n",
       "      <th>BYRNO</th>\n",
       "      <th>VNZIP1</th>\n",
       "      <th>VehBCost</th>\n",
       "      <th>IsOnlineSale</th>\n",
       "      <th>WarrantyCost</th>\n",
       "    </tr>\n",
       "  </thead>\n",
       "  <tbody>\n",
       "    <tr>\n",
       "      <th>count</th>\n",
       "      <td>72983.000000</td>\n",
       "      <td>72983.000000</td>\n",
       "      <td>72983.000000</td>\n",
       "      <td>72983.000000</td>\n",
       "      <td>69814.000000</td>\n",
       "      <td>72983.000000</td>\n",
       "      <td>72965.000000</td>\n",
       "      <td>72965.000000</td>\n",
       "      <td>72965.000000</td>\n",
       "      <td>72965.000000</td>\n",
       "      <td>72668.000000</td>\n",
       "      <td>72668.000000</td>\n",
       "      <td>72668.000000</td>\n",
       "      <td>72668.000000</td>\n",
       "      <td>72983.000000</td>\n",
       "      <td>72983.000000</td>\n",
       "      <td>72983.000000</td>\n",
       "      <td>72983.000000</td>\n",
       "      <td>72983.000000</td>\n",
       "    </tr>\n",
       "    <tr>\n",
       "      <th>mean</th>\n",
       "      <td>36511.428497</td>\n",
       "      <td>0.122988</td>\n",
       "      <td>2005.343052</td>\n",
       "      <td>4.176644</td>\n",
       "      <td>1.494299</td>\n",
       "      <td>71499.995917</td>\n",
       "      <td>6128.909217</td>\n",
       "      <td>7373.636031</td>\n",
       "      <td>8497.034332</td>\n",
       "      <td>9850.928240</td>\n",
       "      <td>6132.081287</td>\n",
       "      <td>7390.681827</td>\n",
       "      <td>8775.723331</td>\n",
       "      <td>10145.385314</td>\n",
       "      <td>26345.842155</td>\n",
       "      <td>58043.059945</td>\n",
       "      <td>6730.934326</td>\n",
       "      <td>0.025280</td>\n",
       "      <td>1276.580985</td>\n",
       "    </tr>\n",
       "    <tr>\n",
       "      <th>std</th>\n",
       "      <td>21077.241302</td>\n",
       "      <td>0.328425</td>\n",
       "      <td>1.731252</td>\n",
       "      <td>1.712210</td>\n",
       "      <td>0.521290</td>\n",
       "      <td>14578.913128</td>\n",
       "      <td>2461.992768</td>\n",
       "      <td>2722.491986</td>\n",
       "      <td>3156.285284</td>\n",
       "      <td>3385.789541</td>\n",
       "      <td>2434.567723</td>\n",
       "      <td>2686.248852</td>\n",
       "      <td>3090.702941</td>\n",
       "      <td>3310.254351</td>\n",
       "      <td>25717.351219</td>\n",
       "      <td>26151.640415</td>\n",
       "      <td>1767.846435</td>\n",
       "      <td>0.156975</td>\n",
       "      <td>598.846788</td>\n",
       "    </tr>\n",
       "    <tr>\n",
       "      <th>min</th>\n",
       "      <td>1.000000</td>\n",
       "      <td>0.000000</td>\n",
       "      <td>2001.000000</td>\n",
       "      <td>0.000000</td>\n",
       "      <td>0.000000</td>\n",
       "      <td>4825.000000</td>\n",
       "      <td>0.000000</td>\n",
       "      <td>0.000000</td>\n",
       "      <td>0.000000</td>\n",
       "      <td>0.000000</td>\n",
       "      <td>0.000000</td>\n",
       "      <td>0.000000</td>\n",
       "      <td>0.000000</td>\n",
       "      <td>0.000000</td>\n",
       "      <td>835.000000</td>\n",
       "      <td>2764.000000</td>\n",
       "      <td>1.000000</td>\n",
       "      <td>0.000000</td>\n",
       "      <td>462.000000</td>\n",
       "    </tr>\n",
       "    <tr>\n",
       "      <th>25%</th>\n",
       "      <td>18257.500000</td>\n",
       "      <td>0.000000</td>\n",
       "      <td>2004.000000</td>\n",
       "      <td>3.000000</td>\n",
       "      <td>1.000000</td>\n",
       "      <td>61837.000000</td>\n",
       "      <td>4273.000000</td>\n",
       "      <td>5406.000000</td>\n",
       "      <td>6280.000000</td>\n",
       "      <td>7493.000000</td>\n",
       "      <td>4275.000000</td>\n",
       "      <td>5414.000000</td>\n",
       "      <td>6536.000000</td>\n",
       "      <td>7784.000000</td>\n",
       "      <td>17212.000000</td>\n",
       "      <td>32124.000000</td>\n",
       "      <td>5435.000000</td>\n",
       "      <td>0.000000</td>\n",
       "      <td>837.000000</td>\n",
       "    </tr>\n",
       "    <tr>\n",
       "      <th>50%</th>\n",
       "      <td>36514.000000</td>\n",
       "      <td>0.000000</td>\n",
       "      <td>2005.000000</td>\n",
       "      <td>4.000000</td>\n",
       "      <td>1.000000</td>\n",
       "      <td>73361.000000</td>\n",
       "      <td>6097.000000</td>\n",
       "      <td>7303.000000</td>\n",
       "      <td>8444.000000</td>\n",
       "      <td>9789.000000</td>\n",
       "      <td>6062.000000</td>\n",
       "      <td>7313.000000</td>\n",
       "      <td>8729.000000</td>\n",
       "      <td>10103.000000</td>\n",
       "      <td>19662.000000</td>\n",
       "      <td>73108.000000</td>\n",
       "      <td>6700.000000</td>\n",
       "      <td>0.000000</td>\n",
       "      <td>1155.000000</td>\n",
       "    </tr>\n",
       "    <tr>\n",
       "      <th>75%</th>\n",
       "      <td>54764.500000</td>\n",
       "      <td>0.000000</td>\n",
       "      <td>2007.000000</td>\n",
       "      <td>5.000000</td>\n",
       "      <td>2.000000</td>\n",
       "      <td>82436.000000</td>\n",
       "      <td>7765.000000</td>\n",
       "      <td>9021.000000</td>\n",
       "      <td>10651.000000</td>\n",
       "      <td>12088.000000</td>\n",
       "      <td>7736.000000</td>\n",
       "      <td>9013.000000</td>\n",
       "      <td>10911.000000</td>\n",
       "      <td>12309.000000</td>\n",
       "      <td>22808.000000</td>\n",
       "      <td>80022.000000</td>\n",
       "      <td>7900.000000</td>\n",
       "      <td>0.000000</td>\n",
       "      <td>1623.000000</td>\n",
       "    </tr>\n",
       "    <tr>\n",
       "      <th>max</th>\n",
       "      <td>73014.000000</td>\n",
       "      <td>1.000000</td>\n",
       "      <td>2010.000000</td>\n",
       "      <td>9.000000</td>\n",
       "      <td>3.000000</td>\n",
       "      <td>115717.000000</td>\n",
       "      <td>35722.000000</td>\n",
       "      <td>36859.000000</td>\n",
       "      <td>39080.000000</td>\n",
       "      <td>41482.000000</td>\n",
       "      <td>35722.000000</td>\n",
       "      <td>36859.000000</td>\n",
       "      <td>39080.000000</td>\n",
       "      <td>41062.000000</td>\n",
       "      <td>99761.000000</td>\n",
       "      <td>99224.000000</td>\n",
       "      <td>45469.000000</td>\n",
       "      <td>1.000000</td>\n",
       "      <td>7498.000000</td>\n",
       "    </tr>\n",
       "  </tbody>\n",
       "</table>\n",
       "</div>"
      ],
      "text/plain": [
       "              RefId      IsBadBuy       VehYear    VehicleAge   WheelTypeID  \\\n",
       "count  72983.000000  72983.000000  72983.000000  72983.000000  69814.000000   \n",
       "mean   36511.428497      0.122988   2005.343052      4.176644      1.494299   \n",
       "std    21077.241302      0.328425      1.731252      1.712210      0.521290   \n",
       "min        1.000000      0.000000   2001.000000      0.000000      0.000000   \n",
       "25%    18257.500000      0.000000   2004.000000      3.000000      1.000000   \n",
       "50%    36514.000000      0.000000   2005.000000      4.000000      1.000000   \n",
       "75%    54764.500000      0.000000   2007.000000      5.000000      2.000000   \n",
       "max    73014.000000      1.000000   2010.000000      9.000000      3.000000   \n",
       "\n",
       "              VehOdo  MMRAcquisitionAuctionAveragePrice  \\\n",
       "count   72983.000000                       72965.000000   \n",
       "mean    71499.995917                        6128.909217   \n",
       "std     14578.913128                        2461.992768   \n",
       "min      4825.000000                           0.000000   \n",
       "25%     61837.000000                        4273.000000   \n",
       "50%     73361.000000                        6097.000000   \n",
       "75%     82436.000000                        7765.000000   \n",
       "max    115717.000000                       35722.000000   \n",
       "\n",
       "       MMRAcquisitionAuctionCleanPrice  MMRAcquisitionRetailAveragePrice  \\\n",
       "count                     72965.000000                      72965.000000   \n",
       "mean                       7373.636031                       8497.034332   \n",
       "std                        2722.491986                       3156.285284   \n",
       "min                           0.000000                          0.000000   \n",
       "25%                        5406.000000                       6280.000000   \n",
       "50%                        7303.000000                       8444.000000   \n",
       "75%                        9021.000000                      10651.000000   \n",
       "max                       36859.000000                      39080.000000   \n",
       "\n",
       "       MMRAcquisitonRetailCleanPrice  MMRCurrentAuctionAveragePrice  \\\n",
       "count                   72965.000000                   72668.000000   \n",
       "mean                     9850.928240                    6132.081287   \n",
       "std                      3385.789541                    2434.567723   \n",
       "min                         0.000000                       0.000000   \n",
       "25%                      7493.000000                    4275.000000   \n",
       "50%                      9789.000000                    6062.000000   \n",
       "75%                     12088.000000                    7736.000000   \n",
       "max                     41482.000000                   35722.000000   \n",
       "\n",
       "       MMRCurrentAuctionCleanPrice  MMRCurrentRetailAveragePrice  \\\n",
       "count                 72668.000000                  72668.000000   \n",
       "mean                   7390.681827                   8775.723331   \n",
       "std                    2686.248852                   3090.702941   \n",
       "min                       0.000000                      0.000000   \n",
       "25%                    5414.000000                   6536.000000   \n",
       "50%                    7313.000000                   8729.000000   \n",
       "75%                    9013.000000                  10911.000000   \n",
       "max                   36859.000000                  39080.000000   \n",
       "\n",
       "       MMRCurrentRetailCleanPrice         BYRNO        VNZIP1      VehBCost  \\\n",
       "count                72668.000000  72983.000000  72983.000000  72983.000000   \n",
       "mean                 10145.385314  26345.842155  58043.059945   6730.934326   \n",
       "std                   3310.254351  25717.351219  26151.640415   1767.846435   \n",
       "min                      0.000000    835.000000   2764.000000      1.000000   \n",
       "25%                   7784.000000  17212.000000  32124.000000   5435.000000   \n",
       "50%                  10103.000000  19662.000000  73108.000000   6700.000000   \n",
       "75%                  12309.000000  22808.000000  80022.000000   7900.000000   \n",
       "max                  41062.000000  99761.000000  99224.000000  45469.000000   \n",
       "\n",
       "       IsOnlineSale  WarrantyCost  \n",
       "count  72983.000000  72983.000000  \n",
       "mean       0.025280   1276.580985  \n",
       "std        0.156975    598.846788  \n",
       "min        0.000000    462.000000  \n",
       "25%        0.000000    837.000000  \n",
       "50%        0.000000   1155.000000  \n",
       "75%        0.000000   1623.000000  \n",
       "max        1.000000   7498.000000  "
      ]
     },
     "execution_count": 3,
     "metadata": {},
     "output_type": "execute_result"
    }
   ],
   "source": [
    "data1 = pd.read_csv(\"data.csv\", delimiter=',')\n",
    "data1.describe()"
   ]
  },
  {
   "cell_type": "markdown",
   "metadata": {},
   "source": [
    "## 2\n",
    "\n",
    "Постройте график рассеяния с пробегом в качестве оси абсцисс и ценой `MMRCurrentRetailAveragePrice` в качестве оси ординат. Автомобили без недостатков отметьте зеленым цветом, со скрытыми недостатками — красным."
   ]
  },
  {
   "cell_type": "code",
   "execution_count": 4,
   "metadata": {},
   "outputs": [],
   "source": [
    "%matplotlib inline\n",
    "import matplotlib.pyplot as plt"
   ]
  },
  {
   "cell_type": "code",
   "execution_count": 5,
   "metadata": {},
   "outputs": [
    {
     "data": {
      "image/png": "[encoded data removed]",
      "text/plain": [
       "<Figure size 432x288 with 1 Axes>"
      ]
     },
     "metadata": {
      "needs_background": "light"
     },
     "output_type": "display_data"
    }
   ],
   "source": [
    "i1 = data1['IsBadBuy'] == 0\n",
    "x = data1.loc[i1, 'VehOdo']\n",
    "y = data1.loc[i1, 'MMRCurrentRetailAveragePrice']\n",
    "fig1 = plt.scatter(x, y, color = 'green')\n",
    "i2 = data1['IsBadBuy'] == 1\n",
    "x = data1.loc[i2, 'VehOdo']\n",
    "y = data1.loc[i2, 'MMRCurrentRetailAveragePrice']\n",
    "fig2 = plt.scatter(x, y, color = 'red')"
   ]
  },
  {
   "cell_type": "markdown",
   "metadata": {},
   "source": [
    "# Регрессия"
   ]
  },
  {
   "cell_type": "markdown",
   "metadata": {},
   "source": [
    "## 3a\n",
    "\n",
    "Импортируйте из библиотеки `sklearn` все модели машинного обучения:\n",
    "\n",
    "`from sklearn import *`\n",
    "\n",
    "Трактуя задачу о предсказании наличия недостатков как задачу регрессии, натренируйте линейную модель [`LinearRegression`](https://scikit-learn.org/stable/modules/generated/sklearn.linear_model.LinearRegression.html) на каком-нибудь подмножестве признаков (например, тех же `VehOdo` и `MMRCurrentRetailAveragePrice`). \n",
    "\n",
    "С какой проблемой вы столкнулись? Какие способы ее решения вы можете предложить?\n",
    "\n",
    "*Функции, которые могут пригодиться при решении: `.fit(), .loc[], pd.notnull()`*\n",
    "\n",
    "*Создание модели:* `model1 = linear_model.LinearRegression()`\n",
    "\n",
    "*Тренировка:*\n",
    "`model1.fit(x, y)`\n",
    "\n"
   ]
  },
  {
   "cell_type": "code",
   "execution_count": 6,
   "metadata": {},
   "outputs": [],
   "source": [
    "from sklearn import *\n",
    "dataVehOdo = pd.notnull(data1['VehOdo'])\n",
    "data2 = data1.loc[dataVehOdo]\n",
    "x = data2.loc[:, ['VehOdo']]\n",
    "y = data2['IsBadBuy']\n",
    "model1 = linear_model.LinearRegression()"
   ]
  },
  {
   "cell_type": "code",
   "execution_count": 7,
   "metadata": {},
   "outputs": [
    {
     "data": {
      "text/plain": [
       "LinearRegression()"
      ]
     },
     "execution_count": 7,
     "metadata": {},
     "output_type": "execute_result"
    }
   ],
   "source": [
    "model1.fit(x, y)"
   ]
  },
  {
   "cell_type": "markdown",
   "metadata": {},
   "source": [
    "## 3b\n",
    "\n",
    "Выполните предсказание для всех объектов обучающей выборки и присвойте результат переменной prediction\n",
    "\n",
    "*Функции, которые могут пригодиться при решении: `model.predict()`*"
   ]
  },
  {
   "cell_type": "code",
   "execution_count": 8,
   "metadata": {},
   "outputs": [],
   "source": [
    "prediction = model1.predict(x)"
   ]
  },
  {
   "cell_type": "markdown",
   "metadata": {},
   "source": [
    "## 3c\n",
    "\n",
    "Преобразуйте получившийся вектор предсказаний `prediction` к значениям `{0,1}`. Это можно сделать, например, используя list comprehensions: https://docs.python.org/3/tutorial/datastructures.html#list-comprehensions \n",
    "\n",
    "`predictionClass = [1 if prediction[i] > 0.5 else 0 for i in range(prediction.shape[0])]`"
   ]
  },
  {
   "cell_type": "code",
   "execution_count": 9,
   "metadata": {},
   "outputs": [],
   "source": [
    "predictionClass = [1 if prediction[i] > 0.19 else 0 for i in range(prediction.shape[0])]\n"
   ]
  },
  {
   "cell_type": "markdown",
   "metadata": {},
   "source": [
    "## 3d\n",
    "\n",
    "Постройте отчет по качеству классификации и матрицу ошибок. Как изменятся отчет и матрица ошибок, если изменить порог в задании 3c (по умолчанию его значение равно 0.5)?\n",
    "\n",
    "*Функции, которые могут пригодиться при решении: `print(metrics.classification_report(...))`, `print(metrics.confusion_matrix(...))`*\n",
    "\n",
    "Функция classification_report для каждого класса объектов считает точность (precision) в этом классе и полноту (recall). Полнота - это процент объектов данного класса, которые ваш метод предсказания тоже отнес к этому классу, среди всех объектов данного класса. Точность (precision) - то же самое, только среди всех объектов, предсказанных для этого класса.\n",
    "\n",
    "Функция confusion_matrix возвращает матрицу с количествами объектов. Номера столбцов матрицы - это номера предсказанных классов, строки - это номера правильных классов. Например, элемент M[0,1] - это количество машин, где на самом деле IsBadBuy = 0, а вы предсказали 1."
   ]
  },
  {
   "cell_type": "code",
   "execution_count": 10,
   "metadata": {},
   "outputs": [
    {
     "name": "stdout",
     "output_type": "stream",
     "text": [
      "              precision    recall  f1-score   support\n",
      "\n",
      "           0       0.88      1.00      0.93     64007\n",
      "           1       0.30      0.00      0.01      8976\n",
      "\n",
      "    accuracy                           0.88     72983\n",
      "   macro avg       0.59      0.50      0.47     72983\n",
      "weighted avg       0.81      0.88      0.82     72983\n",
      "\n",
      "[[63953    54]\n",
      " [ 8953    23]]\n"
     ]
    }
   ],
   "source": [
    "print(metrics.classification_report(y, predictionClass))\n",
    "\n",
    "print(metrics.confusion_matrix(y, predictionClass))"
   ]
  },
  {
   "cell_type": "markdown",
   "metadata": {},
   "source": [
    "# Классификация\n",
    "\n",
    "## 4a\n",
    "Трактуя задачу как задачу классификации, постройте модель классификации «решающее дерево» глубины 20  (все аналогично линейной регрессии).\n",
    "\n",
    "\n",
    "*Функции, которые могут пригодиться при решении: `tree.DecisionTreeClassifier(max_depth=20) `*"
   ]
  },
  {
   "cell_type": "code",
   "execution_count": 11,
   "metadata": {},
   "outputs": [
    {
     "data": {
      "text/plain": [
       "DecisionTreeClassifier(max_depth=20)"
      ]
     },
     "execution_count": 11,
     "metadata": {},
     "output_type": "execute_result"
    }
   ],
   "source": [
    "model2 = tree.DecisionTreeClassifier(max_depth=20)\n",
    "model2.fit(x, y)"
   ]
  },
  {
   "cell_type": "markdown",
   "metadata": {},
   "source": [
    "## 4b\n",
    "\n",
    "Решающее дерево предсказывает вероятности. С помощью построенной модели рассчитайте вероятности наличия скрываемых недостатков.\n",
    "\n",
    "*Функции, которые могут пригодиться при решении: `model.predict_proba() `*"
   ]
  },
  {
   "cell_type": "code",
   "execution_count": 12,
   "metadata": {},
   "outputs": [],
   "source": [
    "prediction2 = model2.predict_proba(x)[:, 0]"
   ]
  },
  {
   "cell_type": "markdown",
   "metadata": {},
   "source": [
    "## 4c\n",
    "\n",
    "Преобразуйте получившийся вектор предсказаний `prediction` к значениям `{0,1}`. Постройте отчет о классификации и матрицу ошибок. Какой метод оказался лучше?"
   ]
  },
  {
   "cell_type": "code",
   "execution_count": 13,
   "metadata": {},
   "outputs": [],
   "source": [
    "predictionClass2 = [0 if prediction2[i] > 0.19 else 1 for i in range(prediction2.shape[0])]"
   ]
  },
  {
   "cell_type": "code",
   "execution_count": 14,
   "metadata": {},
   "outputs": [
    {
     "name": "stdout",
     "output_type": "stream",
     "text": [
      "              precision    recall  f1-score   support\n",
      "\n",
      "           0       0.88      1.00      0.94     64007\n",
      "           1       1.00      0.07      0.14      8976\n",
      "\n",
      "    accuracy                           0.89     72983\n",
      "   macro avg       0.94      0.54      0.54     72983\n",
      "weighted avg       0.90      0.89      0.84     72983\n",
      "\n",
      "[[64007     0]\n",
      " [ 8324   652]]\n"
     ]
    }
   ],
   "source": [
    "print(metrics.classification_report(y, predictionClass2))\n",
    "print(metrics.confusion_matrix(y, predictionClass2))"
   ]
  },
  {
   "cell_type": "markdown",
   "metadata": {},
   "source": [
    "Второй метод оказался лучше."
   ]
  },
  {
   "cell_type": "markdown",
   "metadata": {},
   "source": [
    "# Кросс-валидация\n",
    "## 5a\n",
    "\n",
    "\n",
    "Разделите исходную выборку на две части, например, используя [slices](https://pythonz.net/references/named/slice/):\n",
    "\n",
    "`dataTrain = data.loc[0:34999,]\n",
    "dataTest = data.loc[35000:69999,]`"
   ]
  },
  {
   "cell_type": "code",
   "execution_count": 77,
   "metadata": {},
   "outputs": [],
   "source": [
    "dataTrain = x.loc[0:34999, ['VehOdo']]\n",
    "dataTest = x.loc[35000:69999, ['VehOdo']]\n",
    "yTrain = y[0:35000]\n",
    "yTest = y[35000:70000]"
   ]
  },
  {
   "cell_type": "markdown",
   "metadata": {},
   "source": [
    "## 5b\n",
    "\n",
    "Натренируйте решающее дерево на  `dataTrain` и примените к  `dataTrain` и dataTest, вычислив для каждого случая точность предсказания. \n",
    "\n",
    "Проведите несколько экспериментов для различных глубин дерева. Напишите в комментариях, для каких глубин модель недообучена, для каких переобучена и где точка раннего останова.\n",
    "\n",
    "*Функции, которые могут пригодиться при решении: `metrics.accuracy_score() `*"
   ]
  },
  {
   "cell_type": "code",
   "execution_count": 78,
   "metadata": {},
   "outputs": [
    {
     "data": {
      "text/plain": [
       "DecisionTreeClassifier(max_depth=20)"
      ]
     },
     "execution_count": 78,
     "metadata": {},
     "output_type": "execute_result"
    }
   ],
   "source": [
    "model3 = tree.DecisionTreeClassifier(max_depth=20)\n",
    "model3.fit(dataTrain, yTrain)"
   ]
  },
  {
   "cell_type": "code",
   "execution_count": 79,
   "metadata": {},
   "outputs": [],
   "source": [
    "prediction3Train = model3.predict_proba(dataTrain)[:, 0]\n",
    "prediction3Test = model3.predict_proba(dataTest)[:, 0]"
   ]
  },
  {
   "cell_type": "code",
   "execution_count": 80,
   "metadata": {},
   "outputs": [],
   "source": [
    "predictionClassToTrain = [0 if prediction3Train[i] > 0.5 else 1 for i in range(prediction3Train.shape[0])]\n",
    "predictionClassToTest = [0 if prediction3Test[i] > 0.5 else 1 for i in range(prediction3Test.shape[0])]"
   ]
  },
  {
   "cell_type": "code",
   "execution_count": 81,
   "metadata": {},
   "outputs": [
    {
     "name": "stdout",
     "output_type": "stream",
     "text": [
      "0.9003714285714286\n",
      "0.8523428571428572\n"
     ]
    }
   ],
   "source": [
    "print(metrics.accuracy_score(yTrain, predictionClassToTrain))\n",
    "print(metrics.accuracy_score(yTest, predictionClassToTest))"
   ]
  },
  {
   "cell_type": "markdown",
   "metadata": {},
   "source": [
    "Для глубин < 20 модель недообучена. При глубине > 20 модель переобучена (Второй показатель точности начинает постепенно уменьшаться)"
   ]
  },
  {
   "cell_type": "markdown",
   "metadata": {},
   "source": [
    "# Решающая функция\n",
    "## 6a\n",
    "\n",
    "Вернемся к модели решающего дерева глубины 20, построенного по всей обучающей выборке `data`. Пусть цена ошибки неправильного предсказания 0 равна 1000, а неправильного предсказания 1 — 100.\n",
    "\n",
    "Вычислите функцию потерь &mdash; среднюю ошибку на всей обучающей выборке."
   ]
  },
  {
   "cell_type": "code",
   "execution_count": 85,
   "metadata": {},
   "outputs": [
    {
     "name": "stdout",
     "output_type": "stream",
     "text": [
      "17.493114834961567\n"
     ]
    }
   ],
   "source": [
    "matrix = metrics.confusion_matrix(y, predictionClass2)\n",
    "confMatrix = sum(matrix)\n",
    "totalSum = sum(confMatrix)\n",
    "lossFunc = (1/totalSum) * (matrix[0][1]*1000 + matrix[1][0]*100)\n",
    "print(lossFunc)"
   ]
  },
  {
   "cell_type": "markdown",
   "metadata": {},
   "source": [
    "## 6b\n",
    "\n",
    "Выясните, как нужно изменить решающую функцию `[0 if predictionProb[i][0] > 0.5 else 1 for i in range(prediction.shape[0])]`, чтобы функция потерь была минимальна?\n",
    "\n",
    "Найдите оптимальную решающую функцию и минимальное значение функционала потерь методом подбора или пользуясь формулой из лекции 2 (слайд Decision function).\n",
    "\n"
   ]
  },
  {
   "cell_type": "code",
   "execution_count": 107,
   "metadata": {},
   "outputs": [],
   "source": [
    "predictionClass2 = [0 if prediction2[i] > 0.19 else 1 for i in range(prediction2.shape[0])]"
   ]
  },
  {
   "cell_type": "code",
   "execution_count": 108,
   "metadata": {},
   "outputs": [
    {
     "name": "stdout",
     "output_type": "stream",
     "text": [
      "              precision    recall  f1-score   support\n",
      "\n",
      "           0       0.88      1.00      0.94     64007\n",
      "           1       1.00      0.07      0.14      8976\n",
      "\n",
      "    accuracy                           0.89     72983\n",
      "   macro avg       0.94      0.54      0.54     72983\n",
      "weighted avg       0.90      0.89      0.84     72983\n",
      "\n",
      "[[64007     0]\n",
      " [ 8324   652]]\n"
     ]
    }
   ],
   "source": [
    "print(metrics.classification_report(y, predictionClass2))\n",
    "print(metrics.confusion_matrix(y, predictionClass2))"
   ]
  },
  {
   "cell_type": "code",
   "execution_count": 109,
   "metadata": {},
   "outputs": [
    {
     "name": "stdout",
     "output_type": "stream",
     "text": [
      "11.405395777098777\n"
     ]
    }
   ],
   "source": [
    "matrix = metrics.confusion_matrix(y, predictionClass2)\n",
    "lossFunc = (1/totalSum) * (matrix[0][1]*1000 + matrix[1][0]*100)\n",
    "print(lossFunc)"
   ]
  },
  {
   "cell_type": "code",
   "execution_count": null,
   "metadata": {},
   "outputs": [],
   "source": []
  }
 ],
 "metadata": {
  "kernelspec": {
   "display_name": "Python 3",
   "language": "python",
   "name": "python3"
  },
  "language_info": {
   "codemirror_mode": {
    "name": "ipython",
    "version": 3
   },
   "file_extension": ".py",
   "mimetype": "text/x-python",
   "name": "python",
   "nbconvert_exporter": "python",
   "pygments_lexer": "ipython3",
   "version": "3.6.8"
  }
 },
 "nbformat": 4,
 "nbformat_minor": 2
}
